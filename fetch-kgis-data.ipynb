{
 "cells": [
  {
   "cell_type": "code",
   "execution_count": 87,
   "metadata": {
    "ExecuteTime": {
     "end_time": "2020-12-09T07:58:27.218735Z",
     "start_time": "2020-12-09T07:58:27.208903Z"
    }
   },
   "outputs": [],
   "source": [
    "# imports\n",
    "import os\n",
    "# import json\n",
    "import shutil\n",
    "import requests\n",
    "from glob import glob\n",
    "\n",
    "import pandas as pd\n",
    "import geopandas as gpd\n",
    "# from tqdm import tqdm\n",
    "from rich.progress import track\n",
    "from bs4 import BeautifulSoup as bs4\n",
    "\n",
    "from zipfile import ZipFile, ZIP_DEFLATED\n",
    "from pyunpack import Archive"
   ]
  },
  {
   "cell_type": "code",
   "execution_count": 88,
   "metadata": {
    "ExecuteTime": {
     "end_time": "2020-12-09T07:58:28.156309Z",
     "start_time": "2020-12-09T07:58:28.152771Z"
    },
    "scrolled": true
   },
   "outputs": [],
   "source": [
    "# os.chdir(os.path.dirname(os.path.abspath(__file__)))"
   ]
  },
  {
   "cell_type": "code",
   "execution_count": 89,
   "metadata": {
    "ExecuteTime": {
     "end_time": "2020-12-09T07:58:28.553072Z",
     "start_time": "2020-12-09T07:58:28.547447Z"
    }
   },
   "outputs": [],
   "source": [
    "base_url = 'https://kgis.ksrsac.in'\n",
    "admin = '/kgisdocuments/PDF_KML_SHP/Shapefiles/m-shp'\n",
    "villages = '/kgisdocuments/PDF_KML_SHP/Shapefiles/shp'\n",
    "towns = '/kgisdocuments/PDF_KML_SHP/Town/Shapefile/'\n",
    "wards = '/kgisdocuments/PDF_KML_SHP/Ward/Shapefile/'\n",
    "ac = 'https://kgis.ksrsac.in/kgis/kgisdocuments/Election%20Boundaries/AC_Boundary.rar'\n",
    "pc = 'https://kgis.ksrsac.in/kgis/kgisdocuments/Election%20Boundaries/PC_Boundary.rar'"
   ]
  },
  {
   "cell_type": "code",
   "execution_count": null,
   "metadata": {},
   "outputs": [],
   "source": [
    "# set up paths and folders.\n",
    "raw = './data/raw'\n",
    "create_dir(raw)\n",
    "\n",
    "out = './data/output'\n",
    "create_dir(out)\n",
    "\n",
    "tpath = os.path.join(raw, 'towns')\n",
    "wpath = os.path.join(raw, 'wards')\n",
    "vpath = os.path.join(raw, 'villages')\n",
    "\n",
    "# temp folders for extracting files.\n",
    "rartmp = os.path.join(raw, 'rartmp')\n",
    "ziptmp = os.path.join(raw, 'ziptmp')"
   ]
  },
  {
   "cell_type": "code",
   "execution_count": 90,
   "metadata": {
    "ExecuteTime": {
     "end_time": "2020-12-09T07:58:29.429907Z",
     "start_time": "2020-12-09T07:58:29.416179Z"
    }
   },
   "outputs": [],
   "source": [
    "def download_link(link, path):\n",
    "    \"\"\" \"\"\"\n",
    "    filename = os.path.basename(link)\n",
    "    create_dir(path)\n",
    "\n",
    "    data = requests.get(link, stream=True)\n",
    "\n",
    "    if data.status_code == 200:\n",
    "        with open(os.path.join(path, filename), 'wb') as f:\n",
    "            for chunk in data.iter_content(chunk_size=1024):\n",
    "                if chunk:\n",
    "                    f.write(chunk)\n",
    "                    f.flush()            \n",
    "        return True\n",
    "    else:\n",
    "        return False"
   ]
  },
  {
   "cell_type": "code",
   "execution_count": 91,
   "metadata": {
    "ExecuteTime": {
     "end_time": "2020-12-09T07:58:29.868717Z",
     "start_time": "2020-12-09T07:58:29.864762Z"
    }
   },
   "outputs": [],
   "source": [
    "def extract(file, path):\n",
    "    \"\"\" \"\"\"\n",
    "    # dependencies: need patool and unrar in the system\n",
    "    create_dir(path)\n",
    "    return Archive(file).extractall(path)\n"
   ]
  },
  {
   "cell_type": "code",
   "execution_count": null,
   "metadata": {},
   "outputs": [],
   "source": [
    "def create_dir(path):\n",
    "    \"\"\" \"\"\"\n",
    "    if not os.path.exists(path):\n",
    "        os.makedirs(path)"
   ]
  },
  {
   "cell_type": "code",
   "execution_count": null,
   "metadata": {},
   "outputs": [],
   "source": [
    "def compress(file):\n",
    "    \"\"\" \"\"\"\n",
    "    outname = file.replace('.gpkg', '.gpkg.zip')\n",
    "    with ZipFile(outname, mode='w', compression=ZIP_DEFLATED) as zf:\n",
    "        zf.write(file)\n",
    "    if os.path.exists(outname):\n",
    "        os.remove(file)"
   ]
  },
  {
   "cell_type": "code",
   "execution_count": 92,
   "metadata": {
    "ExecuteTime": {
     "end_time": "2020-12-09T07:58:31.067597Z",
     "start_time": "2020-12-09T07:58:31.056253Z"
    }
   },
   "outputs": [],
   "source": [
    "def get_links(url):\n",
    "    \"\"\" \"\"\"\n",
    "    try:\n",
    "        response = requests.get(url)\n",
    "        assert(response.status_code == 200), 'Status Error'\n",
    "        html = bs4(response.content, 'lxml')\n",
    "        links = [a.get('href') for a in html.findAll('a')]\n",
    "        links = [base_url+l for l in links if not l.endswith('/')]\n",
    "        return links\n",
    "    except:\n",
    "        print(\"Could not fetch the links from the url\")\n",
    "        return list()\n"
   ]
  },
  {
   "cell_type": "code",
   "execution_count": 93,
   "metadata": {
    "ExecuteTime": {
     "end_time": "2020-12-09T07:58:31.730417Z",
     "start_time": "2020-12-09T07:58:31.716754Z"
    }
   },
   "outputs": [],
   "source": [
    "def convert_to_gpkg(path, filename):\n",
    "    \"\"\" \"\"\"\n",
    "    files = glob(f'{path}/*.shp')\n",
    "    gdf = pd.concat([gpd.read_file(f) for f in files])\n",
    "    gdf = gdf.to_crs({'init': 'EPSG:4326'})\n",
    "    gdf.to_file(os.path.join(out, filename), driver='GPKG')"
   ]
  },
  {
   "cell_type": "code",
   "execution_count": 94,
   "metadata": {
    "ExecuteTime": {
     "end_time": "2020-12-09T07:58:33.263913Z",
     "start_time": "2020-12-09T07:58:33.242138Z"
    }
   },
   "outputs": [],
   "source": [
    "def main():\n",
    "    \"\"\" \"\"\"\n",
    "    # fetch admin bpundary vector file\n",
    "    links = get_links(base_url + admin)\n",
    "    links += [ac, pc]\n",
    "\n",
    "    _ = [download_link(link, raw) for link in track(\n",
    "            links, \n",
    "            description='Downloading admin boundary file links...'\n",
    "        )]\n",
    "\n",
    "    rars = glob(f'{raw}/*.rar')\n",
    "\n",
    "    for rar in track(\n",
    "        rars,\n",
    "        description='Extracting and generating outputs for admin boundaries...'\n",
    "    ):\n",
    "        extract(rar, rartmp)\n",
    "        convert_to_gpkg(\n",
    "            rartmp, \n",
    "            (os.path.basename(rar)\n",
    "                    .replace('_Boundary', '')\n",
    "                    .replace('.rar', '_Boundaries.gpkg'))\n",
    "        )\n",
    "        shutil.rmtree(rartmp)\n",
    "\n",
    "    # fetch village boundary vector file\n",
    "    links = get_links(base_url + villages)\n",
    "\n",
    "    _ = [download_link(link, vpath) for link in track(\n",
    "            links, \n",
    "            description='Downloading village boundary file links...'\n",
    "        )]\n",
    "\n",
    "    zips = glob(f'{vpath}/*.zip')\n",
    "    _ = [extract(f, ziptmp) for f in track(\n",
    "            zips, \n",
    "            description='Extracting files for village boundaries...'\n",
    "        )]\n",
    "\n",
    "    convert_to_gpkg(ziptmp, 'Village_Boundaries.gpkg')\n",
    "    shutil.rmtree(ziptmp)\n",
    "\n",
    "    # fetch town boundary vector file\n",
    "    links = get_links(base_url + towns)\n",
    "\n",
    "    _ = [download_link(link, tpath) for link in track(\n",
    "            links, \n",
    "            description='Downloading links for town boundary files...'\n",
    "        )]\n",
    "\n",
    "    rars = glob(f'{tpath}/*.rar')\n",
    "    _ = [extract(f, rartmp) for f in track(\n",
    "            rars, \n",
    "            description='Extracting files for town boundaries (P1)...'\n",
    "        )]\n",
    "\n",
    "    zips = glob(f'{rartmp}/*/*.zip')\n",
    "    _ = [extract(f, ziptmp) for f in track(\n",
    "            zips, \n",
    "            description='Extracting files for town boundaries (P2)...'\n",
    "        )]\n",
    "\n",
    "    convert_to_gpkg(ziptmp, 'Town_Boundaries.gpkg')\n",
    "    shutil.rmtree(ziptmp)\n",
    "    shutil.rmtree(rartmp)\n",
    "\n",
    "    # fetch ward boundary vector file\n",
    "    links = get_links(base_url + wards)\n",
    "\n",
    "    _ = [download_link(link, wpath) for link in track(\n",
    "            links, \n",
    "            description='Downloading ward boundary file links...'\n",
    "        )]\n",
    "\n",
    "    rars = glob(f'{wpath}/*.rar')\n",
    "    _ = [extract(f, rartmp) for f in track(\n",
    "            rars, \n",
    "            description='Extracting files for ward boundaries (P1)...'\n",
    "        )]\n",
    "\n",
    "    zips = glob(f'{rartmp}/*/*.zip')\n",
    "    _ = [extract(f, ziptmp) for f in track(\n",
    "            zips, \n",
    "            description='Extracting files for ward boundaries (P2)...'\n",
    "        )]\n",
    "\n",
    "    convert_to_gpkg(ziptmp, 'Ward_Boundaries.gpkg')\n",
    "    shutil.rmtree(ziptmp)\n",
    "    shutil.rmtree(rartmp)\n",
    "\n",
    "    outfiles = glob(f'{out}/*.gpkg')\n",
    "    _ = [compress(f) for f in track(outfiles, description='Compressing Outputs...')]\n"
   ]
  },
  {
   "cell_type": "code",
   "execution_count": 95,
   "metadata": {
    "ExecuteTime": {
     "end_time": "2020-12-09T08:03:38.193111Z",
     "start_time": "2020-12-09T07:58:38.665670Z"
    }
   },
   "outputs": [
    {
     "data": {
      "application/vnd.jupyter.widget-view+json": {
       "model_id": "73b7f8ae92634c16a0e51ff1e8ca368e",
       "version_major": 2,
       "version_minor": 0
      },
      "text/plain": [
       "Output()"
      ]
     },
     "metadata": {},
     "output_type": "display_data"
    },
    {
     "data": {
      "application/vnd.jupyter.widget-view+json": {
       "model_id": "18426f3689ee440d9a916b995dd2a8d8",
       "version_major": 2,
       "version_minor": 0
      },
      "text/plain": [
       "Output()"
      ]
     },
     "metadata": {},
     "output_type": "display_data"
    },
    {
     "data": {
      "application/vnd.jupyter.widget-view+json": {
       "model_id": "a2ebf3e465094b2da98d0a502c16a396",
       "version_major": 2,
       "version_minor": 0
      },
      "text/plain": [
       "Output()"
      ]
     },
     "metadata": {},
     "output_type": "display_data"
    },
    {
     "data": {
      "application/vnd.jupyter.widget-view+json": {
       "model_id": "236d6305180e487a9f88132a1c212150",
       "version_major": 2,
       "version_minor": 0
      },
      "text/plain": [
       "Output()"
      ]
     },
     "metadata": {},
     "output_type": "display_data"
    },
    {
     "data": {
      "application/vnd.jupyter.widget-view+json": {
       "model_id": "7820cc24b91a46f583da37a3d4f69cec",
       "version_major": 2,
       "version_minor": 0
      },
      "text/plain": [
       "Output()"
      ]
     },
     "metadata": {},
     "output_type": "display_data"
    },
    {
     "data": {
      "application/vnd.jupyter.widget-view+json": {
       "model_id": "22b951b8c97b47e49681477ca7b7d9a2",
       "version_major": 2,
       "version_minor": 0
      },
      "text/plain": [
       "Output()"
      ]
     },
     "metadata": {},
     "output_type": "display_data"
    },
    {
     "data": {
      "application/vnd.jupyter.widget-view+json": {
       "model_id": "3b8cfdac40074869ac886949dfac264e",
       "version_major": 2,
       "version_minor": 0
      },
      "text/plain": [
       "Output()"
      ]
     },
     "metadata": {},
     "output_type": "display_data"
    },
    {
     "data": {
      "application/vnd.jupyter.widget-view+json": {
       "model_id": "e43d25b059d347e992dbf59139d07b4b",
       "version_major": 2,
       "version_minor": 0
      },
      "text/plain": [
       "Output()"
      ]
     },
     "metadata": {},
     "output_type": "display_data"
    },
    {
     "data": {
      "application/vnd.jupyter.widget-view+json": {
       "model_id": "66435c75648a458e9b4c451327c75014",
       "version_major": 2,
       "version_minor": 0
      },
      "text/plain": [
       "Output()"
      ]
     },
     "metadata": {},
     "output_type": "display_data"
    },
    {
     "data": {
      "application/vnd.jupyter.widget-view+json": {
       "model_id": "5d5fd4b77e8d48dfbbb60962c0c9c48f",
       "version_major": 2,
       "version_minor": 0
      },
      "text/plain": [
       "Output()"
      ]
     },
     "metadata": {},
     "output_type": "display_data"
    },
    {
     "data": {
      "application/vnd.jupyter.widget-view+json": {
       "model_id": "b72977f9110a41d89443c1d08cc5a229",
       "version_major": 2,
       "version_minor": 0
      },
      "text/plain": [
       "Output()"
      ]
     },
     "metadata": {},
     "output_type": "display_data"
    },
    {
     "data": {
      "application/vnd.jupyter.widget-view+json": {
       "model_id": "c212d3b1717f499c92d78f99a9d2cfea",
       "version_major": 2,
       "version_minor": 0
      },
      "text/plain": [
       "Output()"
      ]
     },
     "metadata": {},
     "output_type": "display_data"
    },
    {
     "data": {
      "application/vnd.jupyter.widget-view+json": {
       "model_id": "8accb3b9423a4925b191d0aa5d339b95",
       "version_major": 2,
       "version_minor": 0
      },
      "text/plain": [
       "Output()"
      ]
     },
     "metadata": {},
     "output_type": "display_data"
    },
    {
     "data": {
      "application/vnd.jupyter.widget-view+json": {
       "model_id": "a371ed6497f34bd8827f146cc8e33779",
       "version_major": 2,
       "version_minor": 0
      },
      "text/plain": [
       "Output()"
      ]
     },
     "metadata": {},
     "output_type": "display_data"
    },
    {
     "data": {
      "application/vnd.jupyter.widget-view+json": {
       "model_id": "862403a82d4f48428bc28bad990d0893",
       "version_major": 2,
       "version_minor": 0
      },
      "text/plain": [
       "Output()"
      ]
     },
     "metadata": {},
     "output_type": "display_data"
    },
    {
     "data": {
      "application/vnd.jupyter.widget-view+json": {
       "model_id": "7af5203073a146e882fb8a05963e496d",
       "version_major": 2,
       "version_minor": 0
      },
      "text/plain": [
       "Output()"
      ]
     },
     "metadata": {},
     "output_type": "display_data"
    },
    {
     "data": {
      "application/vnd.jupyter.widget-view+json": {
       "model_id": "e87790053967486eaf0ccc741696f9fb",
       "version_major": 2,
       "version_minor": 0
      },
      "text/plain": [
       "Output()"
      ]
     },
     "metadata": {},
     "output_type": "display_data"
    }
   ],
   "source": [
    "main()"
   ]
  },
  {
   "cell_type": "code",
   "execution_count": null,
   "metadata": {},
   "outputs": [],
   "source": []
  }
 ],
 "metadata": {
  "kernelspec": {
   "display_name": "Python 3.7.6 64-bit ('base': conda)",
   "language": "python",
   "name": "python37664bitbaseconda47a6c655b9294ac8bad830080d3ea390"
  },
  "language_info": {
   "codemirror_mode": {
    "name": "ipython",
    "version": 3
   },
   "file_extension": ".py",
   "mimetype": "text/x-python",
   "name": "python",
   "nbconvert_exporter": "python",
   "pygments_lexer": "ipython3",
   "version": "3.7.6"
  },
  "latex_envs": {
   "LaTeX_envs_menu_present": true,
   "autoclose": true,
   "autocomplete": true,
   "bibliofile": "biblio.bib",
   "cite_by": "apalike",
   "current_citInitial": 1,
   "eqLabelWithNumbers": true,
   "eqNumInitial": 1,
   "hotkeys": {
    "equation": "Ctrl-E",
    "itemize": "Ctrl-I"
   },
   "labels_anchors": false,
   "latex_user_defs": false,
   "report_style_numbering": false,
   "user_envs_cfg": false
  }
 },
 "nbformat": 4,
 "nbformat_minor": 2
}